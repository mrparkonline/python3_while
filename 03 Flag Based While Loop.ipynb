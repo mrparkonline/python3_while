{
 "cells": [
  {
   "cell_type": "markdown",
   "metadata": {},
   "source": [
    "# Flag Based While Loop\n",
    "---\n",
    "\n",
    "To control when to exit a while loop, we can also a flag like variable to make the condition become False based on user input.\n",
    "\n",
    "```python\n",
    "    \n",
    "    flag = True\n",
    "    \n",
    "    while flag:\n",
    "        \n",
    "        Your Code Here\n",
    "        \n",
    "        user_input = input('Do you want an exit? (y/n): ')\n",
    "        if user_input in 'yY':\n",
    "            flag = False\n",
    "   # end of while\n",
    "```\n",
    "\n",
    "This type of formatting a while loop help us to potentially loop forever, but at the end of the code block we get to choose if we want to iterate again."
   ]
  }
 ],
 "metadata": {
  "kernelspec": {
   "display_name": "Python 3",
   "language": "python",
   "name": "python3"
  },
  "language_info": {
   "codemirror_mode": {
    "name": "ipython",
    "version": 3
   },
   "file_extension": ".py",
   "mimetype": "text/x-python",
   "name": "python",
   "nbconvert_exporter": "python",
   "pygments_lexer": "ipython3",
   "version": "3.8.2"
  }
 },
 "nbformat": 4,
 "nbformat_minor": 4
}
