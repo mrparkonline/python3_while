{
 "cells": [
  {
   "cell_type": "markdown",
   "metadata": {},
   "source": [
    "# Infinite While Loop\n",
    "---\n",
    "\n",
    "An infinite loop is an iteration that never ends. It may seem like a bad idea to have an infinite loop; however, there are scenarios that may require an infinite loop.\n",
    "\n",
    "The most common scenario is when a program __needs to be on always__.\n",
    "\n",
    "```python\n",
    "\n",
    "    # Infinite While Loop on Python Example Format\n",
    "    \n",
    "    while True:\n",
    "        \n",
    "        Your Code Here\n",
    "    \n",
    "    # end of while\n",
    "```\n",
    "\n",
    "In the code above, since the while loop's condition cannot ever be ```False```, the code block inside the loop will continue to run unless there is forceful intervention: _Force Quit_.\n",
    "\n",
    "### ```break``` keyword\n",
    "\n",
    "**WARNING:** It is not recommended for beginner programmers to rely upon infinite while loops and the ```break``` keyword. \n",
    "\n",
    "**It is better to write sound conditions on while loops to write loops that terminate on their own.**\n",
    "\n",
    "```break``` is a built-in keyword in Python that allows us to exit an iteration when needed. It is often used within a conditional statement such that we exit the loop prematurely when a condition is met.\n",
    "\n",
    "```python\n",
    "\n",
    "    while True:\n",
    "        \n",
    "        Some Code\n",
    "        \n",
    "        if _boolean_condition_:\n",
    "            break\n",
    "            \n",
    "    # end of while\n",
    "```"
   ]
  },
  {
   "cell_type": "code",
   "execution_count": 1,
   "metadata": {},
   "outputs": [
    {
     "name": "stdout",
     "output_type": "stream",
     "text": [
      "10\n",
      "9\n",
      "8\n",
      "7\n",
      "6\n",
      "5\n"
     ]
    }
   ],
   "source": [
    "# Example 1: Using Break\n",
    "\n",
    "num = 10\n",
    "\n",
    "while True:\n",
    "    print(num)\n",
    "    num -= 1\n",
    "    \n",
    "    if num == 4:\n",
    "        break\n",
    "# end of while loop"
   ]
  },
  {
   "cell_type": "markdown",
   "metadata": {},
   "source": [
    "This code is an infinite loop; however, we wrote a conditional check inside the loop that allow us to exit the loop if the condition is True ```num == 4```.\n",
    "\n",
    "### ```continue``` keyword\n",
    "\n",
    "The ```continue``` keyword is very similar to ```break```. \n",
    "\n",
    "However, ```continue``` allows us to end the code block prematurely, but go back to the top of the iteration to go to the next iteration."
   ]
  },
  {
   "cell_type": "code",
   "execution_count": 2,
   "metadata": {},
   "outputs": [
    {
     "name": "stdout",
     "output_type": "stream",
     "text": [
      "9\n",
      "8\n",
      "7\n",
      "6\n",
      "5\n",
      "3\n",
      "2\n",
      "1\n"
     ]
    }
   ],
   "source": [
    "# Example 2: Using Continue\n",
    "\n",
    "num = 10\n",
    "\n",
    "while True:\n",
    "    num -= 1\n",
    "    \n",
    "    if num == 4:\n",
    "        continue # once this code is executed, it ignores all the code below in the code block.\n",
    "    \n",
    "    print(num)\n",
    "    \n",
    "    if num == 1:\n",
    "        break\n",
    "# end of while"
   ]
  },
  {
   "cell_type": "markdown",
   "metadata": {},
   "source": [
    "Notice that the number **4** does not get outputted.\n",
    "\n",
    "\n",
    "#### Real World Application of an Infinite Loop: ```Game Loop```\n",
    "\n",
    "\"The **game loop** is the **overall flow control** for the entire game program. It’s a loop because the game keeps doing a series of actions over and over again until the user quits. _Each iteration of the game loop_ is known as a **frame**. Most real-time games update several times per second: 30 and 60 are the two most common intervals. If a game runs at 60 FPS (frames per second), this means that the game loop completes 60 iterations every second.\n",
    "\n",
    "There can be many variations of the game loop, depending on a number of factors, most notably the target hardware. Let’s first discuss the traditional game loop before exploring a more advanced formulation that’s designed for more modern hardware\"\n",
    "\n",
    "[Source](https://www.informit.com/articles/article.aspx?p=2167437&seqNum=2)"
   ]
  }
 ],
 "metadata": {
  "kernelspec": {
   "display_name": "Python 3",
   "language": "python",
   "name": "python3"
  },
  "language_info": {
   "codemirror_mode": {
    "name": "ipython",
    "version": 3
   },
   "file_extension": ".py",
   "mimetype": "text/x-python",
   "name": "python",
   "nbconvert_exporter": "python",
   "pygments_lexer": "ipython3",
   "version": "3.8.2"
  }
 },
 "nbformat": 4,
 "nbformat_minor": 4
}
