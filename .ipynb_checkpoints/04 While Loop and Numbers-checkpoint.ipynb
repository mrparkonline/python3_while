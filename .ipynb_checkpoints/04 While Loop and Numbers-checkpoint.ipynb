{
 "cells": [
  {
   "cell_type": "markdown",
   "metadata": {},
   "source": [
    "# While Loop and Numbers\n",
    "---\n",
    "\n",
    "We can manipulate variables to represent a range of numbers by repetitively applying arithmetic operators.\n",
    "\n",
    "### Recall: Assignment Operators\n",
    "\n",
    "```python\n",
    "    a = b   # (Assignment)\n",
    "    a += b  # (Add & Assign)\n",
    "    a -= b  # (Subtract & Assign)\n",
    "    a *= b  # (Multiply & Assign)\n",
    "    a /= b  # (Divide & Assign)\n",
    "    a //= b # (Floor Divide & Assign)\n",
    "    a **= b # (Exponentiate & Assign)\n",
    "    a %= b  # (Modulo & Assign)\n",
    "```\n",
    "\n",
    "These operators will manipulate/update the left variable with the result of the arithmetic operation with the right operand.\n",
    "\n",
    "If we can use these inside a while loop code block, we can repetitively change the variable to make a condition become False to end the while loop."
   ]
  },
  {
   "cell_type": "code",
   "execution_count": 1,
   "metadata": {},
   "outputs": [
    {
     "name": "stdout",
     "output_type": "stream",
     "text": [
      "1\n",
      "2\n",
      "3\n",
      "4\n",
      "5\n",
      "6\n",
      "7\n",
      "8\n",
      "9\n",
      "10\n"
     ]
    }
   ],
   "source": [
    "# Counting from 1 to 10\n",
    "\n",
    "num = 1\n",
    "while num <= 10:\n",
    "    print(num)\n",
    "    num += 1\n",
    "# end of while"
   ]
  },
  {
   "cell_type": "code",
   "execution_count": 3,
   "metadata": {},
   "outputs": [
    {
     "name": "stdout",
     "output_type": "stream",
     "text": [
      "10\n",
      "9\n",
      "8\n",
      "7\n",
      "6\n",
      "5\n",
      "4\n",
      "3\n",
      "2\n",
      "1\n"
     ]
    }
   ],
   "source": [
    "# Counting down from 10 to 1:\n",
    "\n",
    "num = 10\n",
    "while num > 0:\n",
    "    print(num)\n",
    "    num -= 1\n",
    "# end of while"
   ]
  },
  {
   "cell_type": "code",
   "execution_count": 6,
   "metadata": {
    "scrolled": true
   },
   "outputs": [
    {
     "name": "stdout",
     "output_type": "stream",
     "text": [
      "13\n",
      "40\n",
      "20\n",
      "10\n",
      "5\n",
      "16\n",
      "8\n",
      "4\n",
      "2\n",
      "1\n"
     ]
    }
   ],
   "source": [
    "# Collatz Sequence\n",
    "# The conjecture of the collatz sequence is that any number following the set of rules will always end up at 1\n",
    "\n",
    "# Rule:\n",
    "# If N is even, divide it by 2\n",
    "# If N is odd, multiply by 3 then add 1\n",
    "\n",
    "num = 13 # a random starting value\n",
    "\n",
    "while num != 1:\n",
    "    print(num)\n",
    "    \n",
    "    if num % 2 == 0:\n",
    "        num //= 2\n",
    "    else:\n",
    "        num *= 3\n",
    "        num += 1\n",
    "# end of while\n",
    "print(num)"
   ]
  }
 ],
 "metadata": {
  "kernelspec": {
   "display_name": "Python 3",
   "language": "python",
   "name": "python3"
  },
  "language_info": {
   "codemirror_mode": {
    "name": "ipython",
    "version": 3
   },
   "file_extension": ".py",
   "mimetype": "text/x-python",
   "name": "python",
   "nbconvert_exporter": "python",
   "pygments_lexer": "ipython3",
   "version": "3.8.2"
  }
 },
 "nbformat": 4,
 "nbformat_minor": 4
}
