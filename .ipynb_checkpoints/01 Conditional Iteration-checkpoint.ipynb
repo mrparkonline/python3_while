{
 "cells": [
  {
   "cell_type": "markdown",
   "metadata": {},
   "source": [
    "# Conditional Iteration: While Loops\n",
    "---\n",
    "\n",
    "**Iteration** is the act of repeating a mathematical or computational process. Each repeated step in iteration is also called an iteration.\n",
    "\n",
    "### While Loops\n",
    "\n",
    "While loops are our very first iteration statements that we can incorporate into our program. It behaves very similar to an if statement; however, a while loop will repeat its code block when its condition evaluates to True.\n",
    "\n",
    "```python\n",
    "\n",
    "# While Loop Format\n",
    "\n",
    "while __boolean_condition__:\n",
    "    \n",
    "    your code here\n",
    "\n",
    "# end of while loop\n",
    "```\n",
    "\n",
    "We can use while loops to complete repetitive tasks, generate ranges of values, and express algorithms.\n",
    "\n",
    "When a while loop reaches the end of its code block, it will always re-evaluate its boolean condition.\n",
    "- If the condition is **True**, it will execute its code block again\n",
    "- If the condition is **False**, it will ignore the code block and continue on with the flow of the program."
   ]
  },
  {
   "cell_type": "code",
   "execution_count": 2,
   "metadata": {},
   "outputs": [
    {
     "name": "stdout",
     "output_type": "stream",
     "text": [
      "1 is a factor of 12\n",
      "2 is a factor of 12\n",
      "3 is a factor of 12\n",
      "4 is a factor of 12\n",
      "6 is a factor of 12\n",
      "12 is a factor of 12\n"
     ]
    }
   ],
   "source": [
    "# Example Program 1:\n",
    "# Factors of a Number\n",
    "\n",
    "num = 12\n",
    "divisor = 1\n",
    "\n",
    "while divisor <= num:\n",
    "    if num % divisor == 0:\n",
    "        print(divisor, 'is a factor of', num)\n",
    "    \n",
    "    divisor += 1\n",
    "# end of while"
   ]
  },
  {
   "cell_type": "markdown",
   "metadata": {},
   "source": [
    "**Code Explanation:**\n",
    "- We only repeat the while loop's code block if divisor is less or equal to num.\n",
    "- During every iteration, we are checking a condition\n",
    "    - If the condition is true, we output the factor\n",
    "- To make sure we exit the loop eventually, we are modifying divisor variable so that the while loop's condition will evaluate to False\n",
    "\n",
    "### Python Specific: While ... Else Structure\n",
    "\n",
    "There is no **\"elif\"** for while loops, but we can add an ```else``` statement to make sure to _execute certain code block when the while loop's condition evaluates to False._"
   ]
  },
  {
   "cell_type": "code",
   "execution_count": 3,
   "metadata": {},
   "outputs": [
    {
     "name": "stdout",
     "output_type": "stream",
     "text": [
      "We have reached an odd number.\n"
     ]
    }
   ],
   "source": [
    "# Example 2: while loop's condition is False right at the beginning\n",
    "\n",
    "num = 3\n",
    "\n",
    "while num % 2 == 0:\n",
    "    print(num)\n",
    "    num //= 2\n",
    "else:\n",
    "    print('We have reached an odd number.')"
   ]
  },
  {
   "cell_type": "markdown",
   "metadata": {},
   "source": [
    "Examine the __while loop's condition__. Currently ```num``` is an odd number; therefore, ```num % 2 == 0``` will never be True.\n",
    "\n",
    "In this situation, we go into the ```else``` statement to execute the code block"
   ]
  },
  {
   "cell_type": "code",
   "execution_count": 4,
   "metadata": {},
   "outputs": [
    {
     "name": "stdout",
     "output_type": "stream",
     "text": [
      "10\n",
      "9\n",
      "8\n",
      "7\n",
      "6\n",
      "5\n",
      "4\n",
      "3\n",
      "2\n",
      "1\n",
      "We have reached the end.\n"
     ]
    }
   ],
   "source": [
    "# Example 3: Else code block executing after the while loop condition becomes False\n",
    "\n",
    "num = 10\n",
    "\n",
    "while num > 0:\n",
    "    print(num)\n",
    "    num -= 1\n",
    "else:\n",
    "    print('We have reached the end.')"
   ]
  },
  {
   "cell_type": "markdown",
   "metadata": {},
   "source": [
    "The code above has a while loop that starts with its condition evaluating to True. \n",
    "\n",
    "This allows the while loop to execute its code block until the condition evaluates to False.\n",
    "\n",
    "Once the condition becomes False, we execute the ```else``` code block as well."
   ]
  }
 ],
 "metadata": {
  "kernelspec": {
   "display_name": "Python 3",
   "language": "python",
   "name": "python3"
  },
  "language_info": {
   "codemirror_mode": {
    "name": "ipython",
    "version": 3
   },
   "file_extension": ".py",
   "mimetype": "text/x-python",
   "name": "python",
   "nbconvert_exporter": "python",
   "pygments_lexer": "ipython3",
   "version": "3.8.2"
  }
 },
 "nbformat": 4,
 "nbformat_minor": 4
}
